{
 "cells": [
  {
   "cell_type": "code",
   "execution_count": 53,
   "metadata": {},
   "outputs": [],
   "source": [
    "import re\n",
    "import platform\n",
    "import sys\n",
    "import os\n",
    "import tweepy as tw\n",
    "import twitter\n",
    "import pandas as pd\n",
    "import csv\n",
    "from tweepy import Cursor\n",
    "from datetime import datetime, date, time, timedelta\n",
    "from collections import Counter\n",
    "import datetime\n",
    "import matplotlib.pyplot as plt"
   ]
  },
  {
   "cell_type": "code",
   "execution_count": 4,
   "metadata": {},
   "outputs": [
    {
     "name": "stdout",
     "output_type": "stream",
     "text": [
      "<twitter.api.Twitter object at 0x7f3d708a7c18>\n"
     ]
    }
   ],
   "source": [
    "CONSUMER_KEY = 'kKEOC6n2BKBVsks5RH45BmiRw'\n",
    "CONSUMER_SECRET = 'rXrfijW6S2wxb4Mt4yVil36QDcZNawsotjBb8X9PQ2zejmX6mr'\n",
    "\n",
    "# to get the oauth credential you need to click on the 'Generate access token' button:\n",
    "OAUTH_TOKEN = '1225147204739964929-obkKVb4GndaWd3GnZY6aCLafFPtbD7' \n",
    "OAUTH_TOKEN_SECRET = '7xNKPaSPQHfMzPeiD8JIemKg8dCQOBa3jp4Tx0922GGNP'\n",
    "auth = twitter.oauth.OAuth(OAUTH_TOKEN, OAUTH_TOKEN_SECRET,CONSUMER_KEY, CONSUMER_SECRET)\n",
    "twitter_api = twitter.Twitter(auth=auth)\n",
    "print(twitter_api) "
   ]
  },
  {
   "cell_type": "code",
   "execution_count": 15,
   "metadata": {},
   "outputs": [],
   "source": [
    "tweets_time = ['Time',]\n",
    "tweets_id = ['Post_id',]\n",
    "tweets_text = ['Tweet',]\n",
    "tweets_retweet_count = ['Comment count',]\n",
    "tweets_likes = ['Like count']\n",
    "\n",
    "auth = tw.OAuthHandler(CONSUMER_KEY, CONSUMER_SECRET)\n",
    "auth.set_access_token(OAUTH_TOKEN, OAUTH_TOKEN_SECRET)\n",
    "api = tw.API(auth, wait_on_rate_limit=True)\n",
    "\n",
    "def clean_tweet(tweet):\n",
    "    return ' '.join(re.sub(\"(@[A-Za-z0-9]+)|([^0-9A-Za-z \\t])|(\\w+:\\/\\/\\S+)\", \"\", tweet).split())"
   ]
  },
  {
   "cell_type": "code",
   "execution_count": 6,
   "metadata": {},
   "outputs": [
    {
     "name": "stdout",
     "output_type": "stream",
     "text": [
      "Getting data for pizzahut\n",
      "name: Pizza Hut\n",
      "screen_name: pizzahut\n",
      "description: Proud Sponsor of the NFL and NCAA®.\n",
      "statuses_count: 442841\n",
      "friends_count: 88305\n",
      "followers_count: 1625818\n"
     ]
    }
   ],
   "source": [
    "date_since = '2020-02-21'\n",
    "date_until = '2020-03-03'\n",
    "tweets_time = []\n",
    "tweets_id = []\n",
    "tweets_text = []\n",
    "account_list = [\"pizzahut\"]\n",
    "\n",
    "if len(account_list) > 0:\n",
    "    for target in account_list:\n",
    "        print(\"Getting data for \" + target)\n",
    "        item = api.get_user(target)\n",
    "        print(\"name: \" + item.name)\n",
    "        print(\"screen_name: \" + item.screen_name)\n",
    "        print(\"description: \" + item.description)\n",
    "        print(\"statuses_count: \" + str(item.statuses_count))\n",
    "        print(\"friends_count: \" + str(item.friends_count))\n",
    "        print(\"followers_count: \" + str(item.followers_count))"
   ]
  },
  {
   "cell_type": "code",
   "execution_count": 7,
   "metadata": {},
   "outputs": [
    {
     "name": "stdout",
     "output_type": "stream",
     "text": [
      "Account age (in days): 4466\n"
     ]
    }
   ],
   "source": [
    "account_created_date = item.created_at\n",
    "delta = datetime.utcnow() - account_created_date\n",
    "account_age_days = delta.days\n",
    "print(\"Account age (in days): \" + str(account_age_days))"
   ]
  },
  {
   "cell_type": "code",
   "execution_count": 16,
   "metadata": {},
   "outputs": [],
   "source": [
    "#Array to hold most popular hashtags and mentions for later\n",
    "hashtags = []\n",
    "mentions = []\n",
    "tweet_count = 0\n",
    "end_date = datetime.utcnow() - timedelta(days=30)\n",
    "for tweet in Cursor(api.user_timeline, id=target).items():\n",
    "    if tweet.in_reply_to_status_id is None:\n",
    "        #Tweet is not a reply\n",
    "        #print(tweet.text)\n",
    "        #print(tweet.retweet_count)\n",
    "        #print(tweet.favorite_count)\n",
    "        tweets_time.append(tweet.created_at)\n",
    "        tweets_id.append(tweet.id)\n",
    "        tweets_text.append(clean_tweet(tweet.text))\n",
    "        tweets_retweet_count.append(tweet.retweet_count)\n",
    "        tweets_likes.append(tweet.favorite_count)\n",
    "\n",
    "rows = zip(tweets_time, tweets_id, tweets_text,tweets_retweet_count,tweets_likes)"
   ]
  },
  {
   "cell_type": "code",
   "execution_count": 17,
   "metadata": {},
   "outputs": [
    {
     "name": "stdout",
     "output_type": "stream",
     "text": [
      "writing\n",
      "done\n"
     ]
    }
   ],
   "source": [
    "newPath = \"pizzahut_data.csv\"\n",
    "print('writing')\n",
    "with open(newPath, \"w\") as f:\n",
    "    writer = csv.writer(f)\n",
    "    for row in rows:\n",
    "        writer.writerow(row)\n",
    "print('done')"
   ]
  },
  {
   "cell_type": "code",
   "execution_count": 24,
   "metadata": {},
   "outputs": [],
   "source": [
    "pizzahut_data = pd.read_csv(newPath)"
   ]
  },
  {
   "cell_type": "code",
   "execution_count": 56,
   "metadata": {},
   "outputs": [],
   "source": [
    "date = pizzahut_data['Time']\n"
   ]
  },
  {
   "cell_type": "code",
   "execution_count": 73,
   "metadata": {},
   "outputs": [
    {
     "name": "stderr",
     "output_type": "stream",
     "text": [
      "/home/isualice/anaconda3/lib/python3.7/site-packages/ipykernel_launcher.py:5: SettingWithCopyWarning: \n",
      "A value is trying to be set on a copy of a slice from a DataFrame\n",
      "\n",
      "See the caveats in the documentation: http://pandas.pydata.org/pandas-docs/stable/user_guide/indexing.html#returning-a-view-versus-a-copy\n",
      "  \"\"\"\n"
     ]
    }
   ],
   "source": [
    "for i in range(len(date)):\n",
    "    dt = date[i][:10]\n",
    "    year, month, day = (int(x) for x in dt.split('-'))    \n",
    "    ans = datetime.date(year, month, day)\n",
    "    pizzahut_data['Weekday'][i] = ans.strftime(\"%A\")"
   ]
  },
  {
   "cell_type": "code",
   "execution_count": 74,
   "metadata": {},
   "outputs": [],
   "source": [
    "df = pizzahut_data\n",
    "df.to_csv('pizzahut_Data.csv',index=False)"
   ]
  },
  {
   "cell_type": "code",
   "execution_count": 79,
   "metadata": {},
   "outputs": [
    {
     "data": {
      "text/plain": [
       "Text(0, 0.5, 'Official tweets number')"
      ]
     },
     "execution_count": 79,
     "metadata": {},
     "output_type": "execute_result"
    },
    {
     "data": {
      "image/png": "[encoded data removed]",
      "text/plain": [
       "<Figure size 640x480 with 1 Axes>"
      ]
     },
     "metadata": {
      "needs_background": "light"
     },
     "output_type": "display_data"
    }
   ],
   "source": [
    "plt.figure(figsize=(8,6),dpi=80)\n",
    "cats = ['Monday', 'Tuesday', 'Wednesday', 'Thursday', 'Friday', 'Saturday', 'Sunday']\n",
    "df['Weekday'] = pd.Categorical(df['Weekday'], categories=cats, ordered=True)\n",
    "df = df.sort_values('Weekday')\n",
    "weekday = df['Weekday']\n",
    "plt.hist(weekday,bins=13)\n",
    "plt.ylabel('Official tweets number',fontsize=13)"
   ]
  },
  {
   "cell_type": "code",
   "execution_count": 87,
   "metadata": {},
   "outputs": [
    {
     "name": "stdout",
     "output_type": "stream",
     "text": [
      "{'Monday': 542, 'Tuesday': 160, 'Wednesday': 107, 'Thursday': 270, 'Friday': 290, 'Saturday': 124, 'Sunday': 1877}\n"
     ]
    }
   ],
   "source": [
    "Monday_comment = 0\n",
    "Tuesday_comment = 0\n",
    "Wednesday_comment = 0\n",
    "Thursday_comment = 0\n",
    "Friday_comment = 0\n",
    "Saturday_comment = 0\n",
    "Sunday_comment = 0\n",
    "\n",
    "comment = df['Comment count']\n",
    "for i in range(len(weekday)):\n",
    "    if weekday[i] == 'Monday':\n",
    "        Monday_comment += comment[i]\n",
    "    if weekday[i] == 'Tuesday':\n",
    "        Tuesday_comment += comment[i]\n",
    "    if weekday[i] == 'Wednesday':\n",
    "        Wednesday_comment += comment[i]\n",
    "    if weekday[i] == 'Thursday':\n",
    "        Thursday_comment += comment[i]\n",
    "    if weekday[i] == 'Friday':\n",
    "        Friday_comment += comment[i]\n",
    "    elif weekday[i] == 'Saturday':\n",
    "        Saturday_comment += comment[i]\n",
    "    else:\n",
    "        Sunday_comment += comment[i]\n",
    "\n",
    "comment_count = dict()\n",
    "comment_count['Monday'] = Monday_comment\n",
    "comment_count['Tuesday'] = Tuesday_comment\n",
    "comment_count['Wednesday'] = Wednesday_comment\n",
    "comment_count['Thursday'] = Thursday_comment\n",
    "comment_count['Friday'] = Friday_comment\n",
    "comment_count['Saturday'] = Saturday_comment\n",
    "comment_count['Sunday'] = Sunday_comment\n",
    "\n",
    "print(comment_count)"
   ]
  },
  {
   "cell_type": "code",
   "execution_count": 96,
   "metadata": {},
   "outputs": [
    {
     "data": {
      "text/plain": [
       "Text(0, 0.5, 'Comment counts')"
      ]
     },
     "execution_count": 96,
     "metadata": {},
     "output_type": "execute_result"
    },
    {
     "data": {
      "image/png": "[encoded data removed]",
      "text/plain": [
       "<Figure size 640x480 with 1 Axes>"
      ]
     },
     "metadata": {
      "needs_background": "light"
     },
     "output_type": "display_data"
    }
   ],
   "source": [
    "plt.figure(figsize=(8,6),dpi=80)\n",
    "\n",
    "plt.plot(list(comment_count.keys()),list(comment_count.values()))\n",
    "plt.ylabel('Comment counts',fontsize=13)"
   ]
  },
  {
   "cell_type": "code",
   "execution_count": 97,
   "metadata": {},
   "outputs": [
    {
     "name": "stdout",
     "output_type": "stream",
     "text": [
      "{'Monday': 2423, 'Tuesday': 990, 'Wednesday': 1047, 'Thursday': 1515, 'Friday': 2189, 'Saturday': 941, 'Sunday': 9401}\n"
     ]
    }
   ],
   "source": [
    "Monday_like = 0\n",
    "Tuesday_like = 0\n",
    "Wednesday_like = 0\n",
    "Thursday_like = 0\n",
    "Friday_like = 0\n",
    "Saturday_like = 0\n",
    "Sunday_like = 0\n",
    "\n",
    "like = df['Like count']\n",
    "for i in range(len(weekday)):\n",
    "    if weekday[i] == 'Monday':\n",
    "        Monday_like += like[i]\n",
    "    if weekday[i] == 'Tuesday':\n",
    "        Tuesday_like += like[i]\n",
    "    if weekday[i] == 'Wednesday':\n",
    "        Wednesday_like += like[i]\n",
    "    if weekday[i] == 'Thursday':\n",
    "        Thursday_like += like[i]\n",
    "    if weekday[i] == 'Friday':\n",
    "        Friday_like += like[i]\n",
    "    elif weekday[i] == 'Saturday':\n",
    "        Saturday_like += like[i]\n",
    "    else:\n",
    "        Sunday_like += like[i]\n",
    "\n",
    "like_count = dict()\n",
    "like_count['Monday'] = Monday_like\n",
    "like_count['Tuesday'] = Tuesday_like\n",
    "like_count['Wednesday'] = Wednesday_like\n",
    "like_count['Thursday'] = Thursday_like\n",
    "like_count['Friday'] = Friday_like\n",
    "like_count['Saturday'] = Saturday_like\n",
    "like_count['Sunday'] = Sunday_like\n",
    "\n",
    "print(like_count)"
   ]
  },
  {
   "cell_type": "code",
   "execution_count": 98,
   "metadata": {},
   "outputs": [
    {
     "data": {
      "text/plain": [
       "Text(0, 0.5, 'like counts')"
      ]
     },
     "execution_count": 98,
     "metadata": {},
     "output_type": "execute_result"
    },
    {
     "data": {
      "image/png": "[encoded data removed]",
      "text/plain": [
       "<Figure size 640x480 with 1 Axes>"
      ]
     },
     "metadata": {
      "needs_background": "light"
     },
     "output_type": "display_data"
    }
   ],
   "source": [
    "plt.figure(figsize=(8,6),dpi=80)\n",
    "\n",
    "plt.plot(list(like_count.keys()),list(like_count.values()))\n",
    "plt.ylabel('like counts',fontsize=13)"
   ]
  },
  {
   "cell_type": "code",
   "execution_count": null,
   "metadata": {},
   "outputs": [],
   "source": []
  }
 ],
 "metadata": {
  "kernelspec": {
   "display_name": "Python 3",
   "language": "python",
   "name": "python3"
  },
  "language_info": {
   "codemirror_mode": {
    "name": "ipython",
    "version": 3
   },
   "file_extension": ".py",
   "mimetype": "text/x-python",
   "name": "python",
   "nbconvert_exporter": "python",
   "pygments_lexer": "ipython3",
   "version": "3.7.3"
  }
 },
 "nbformat": 4,
 "nbformat_minor": 2
}
