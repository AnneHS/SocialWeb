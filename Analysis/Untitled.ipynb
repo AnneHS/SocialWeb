{
 "cells": [
  {
   "cell_type": "code",
   "execution_count": 8,
   "metadata": {},
   "outputs": [
    {
     "name": "stdout",
     "output_type": "stream",
     "text": [
      "Monday\n",
      "Tuesday\n",
      "Wednesday\n",
      "Thursday\n",
      "Friday\n",
      "Saturday\n",
      "Sunday\n",
      "          Monday  Tuesday  Wednesday  Thursday  Friday  Saturday  Sunday\n",
      "Retweets      24       57         72       112     299        63     336\n",
      "Likes        113      407        496       772    2060       351    2371\n"
     ]
    }
   ],
   "source": [
    "import pandas as pd\n",
    "\n",
    "retweet_count = {'Monday': 24, 'Tuesday': 57, 'Wednesday': 72, 'Thursday': 112, 'Friday': 299, 'Saturday': 63, 'Sunday': 336}\n",
    "like_count = {'Monday': 113, 'Tuesday': 407, 'Wednesday': 496, 'Thursday': 772, 'Friday': 2060, 'Saturday': 351, 'Sunday': 2371}\n",
    "\n",
    "for entry in retweet_count:\n",
    "    print(entry)\n",
    "    \n",
    "index_list = ['Retweets', 'Likes']\n",
    "df = pd.DataFrame([retweet_count, like_count], columns=retweet_count.keys())\n",
    "df.index=index_list\n",
    "print(df)"
   ]
  },
  {
   "cell_type": "code",
   "execution_count": 2,
   "metadata": {},
   "outputs": [
    {
     "name": "stdout",
     "output_type": "stream",
     "text": [
      "[]\n"
     ]
    }
   ],
   "source": [
    "lst = []\n",
    "print(lst)"
   ]
  },
  {
   "cell_type": "code",
   "execution_count": null,
   "metadata": {},
   "outputs": [],
   "source": []
  }
 ],
 "metadata": {
  "kernelspec": {
   "display_name": "Python 3",
   "language": "python",
   "name": "python3"
  },
  "language_info": {
   "codemirror_mode": {
    "name": "ipython",
    "version": 3
   },
   "file_extension": ".py",
   "mimetype": "text/x-python",
   "name": "python",
   "nbconvert_exporter": "python",
   "pygments_lexer": "ipython3",
   "version": "3.7.6"
  }
 },
 "nbformat": 4,
 "nbformat_minor": 4
}
