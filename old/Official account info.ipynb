{
 "cells": [
  {
   "cell_type": "code",
   "execution_count": 1,
   "metadata": {},
   "outputs": [],
   "source": [
    "import tweepy\n",
    "from tweepy import OAuthHandler\n",
    "import json\n",
    "import pickle\n"
   ]
  },
  {
   "cell_type": "code",
   "execution_count": 2,
   "metadata": {},
   "outputs": [
    {
     "name": "stdout",
     "output_type": "stream",
     "text": [
      "<tweepy.api.API object at 0x7fcfccf3bc50>\n"
     ]
    }
   ],
   "source": [
    "consumer_key = 'kv11BKRYwjUjyYaD1LH2vITGr'\n",
    "consumer_secret = '2HivoGwFVo7obK60L8uhh2i4vFsSLly6dJniKqgo5u6KSAkQYY'\n",
    "access_token = '1225066239334195202-mRarP7Q4MnQPayipwJezROey6WrVhL'\n",
    "access_secret = 'tnSCLmgwMIqbw0hq9P4tmGFiWm6pIb9uQUSf8Pwmcj3JR'\n",
    "\n",
    "auth = OAuthHandler(consumer_key, consumer_secret)\n",
    "auth.set_access_token(access_token, access_secret)\n",
    "\n",
    "api = tweepy.API(auth)\n",
    "\n",
    "print(api)"
   ]
  },
  {
   "cell_type": "code",
   "execution_count": 3,
   "metadata": {},
   "outputs": [
    {
     "name": "stdout",
     "output_type": "stream",
     "text": [
      "{'\"id\"': '31444922', '\"id_str\"': '\"31444922\"', '\"name\"': '\"Domino\\'s Pizza\"', '\"screen_name\"': '\"dominos\"', '\"location\"': '\"Ann Arbor, MI\"', '\"profile_location\"': 'null', '\"description\"': '\"The home of Domino\\'s Pizza on Twitter. Hosted by the crew at Domino\\'s HQ.\"', '\"url\"': '\"http://t.co/e425C1kbVW\"', '\"entities\"': '{\"url\": {\"urls\": [{\"url\": \"http://t.co/e425C1kbVW\", \"expanded_url\": \"http://www.dominos.com\", \"display_url\": \"dominos.com\", \"indices\": [0, 22]}]}, \"description\": {\"urls\": []}}', '\"protected\"': 'false', '\"followers_count\"': '1320613', '\"friends_count\"': '570', '\"listed_count\"': '3794', '\"created_at\"': '\"Wed Apr 15 16:18:59 +0000 2009\"', '\"favourites_count\"': '7214', '\"utc_offset\"': 'null', '\"time_zone\"': 'null', '\"geo_enabled\"': 'true', '\"verified\"': 'true', '\"statuses_count\"': '408626', '\"lang\"': 'null', '\"status\"': '{\"created_at\": \"Mon Mar 02 23:00:14 +0000 2020\", \"id\": 1234614522322849794, \"id_str\": \"1234614522322849794\", \"text\": \"@AmNikk This isn\\'t the service we wanted you to have at all. Please DM us. We want to look into this. *JH https://t.co/Cf8BiToVpb\", \"truncated\": false, \"entities\": {\"hashtags\": [], \"symbols\": [], \"user_mentions\": [{\"screen_name\": \"AmNikk\", \"name\": \"Amber Nicole\", \"id\": 319745213, \"id_str\": \"319745213\", \"indices\": [0, 7]}], \"urls\": [{\"url\": \"https://t.co/Cf8BiToVpb\", \"expanded_url\": \"https://twitter.com/messages/compose?recipient_id=31444922\", \"display_url\": \"twitter.com/messages/compo\\\\u2026\", \"indices\": [106, 129]}]}, \"source\": \"<a href=\\\\\"https://app.astutesocial.com\\\\\" rel=\\\\\"nofollow\\\\\">Astute Global</a>\", \"in_reply_to_status_id\": 1234527423447781379, \"in_reply_to_status_id_str\": \"1234527423447781379\", \"in_reply_to_user_id\": 319745213, \"in_reply_to_user_id_str\": \"319745213\", \"in_reply_to_screen_name\": \"AmNikk\", \"geo\": null, \"coordinates\": null, \"place\": null, \"contributors\": null, \"is_quote_status\": false, \"retweet_count\": 0, \"favorite_count\": 0, \"favorited\": false, \"retweeted\": false, \"possibly_sensitive\": false, \"lang\": \"en\"}', '\"contributors_enabled\"': 'false', '\"is_translator\"': 'false', '\"is_translation_enabled\"': 'false', '\"profile_background_color\"': '\"FFFFFF\"', '\"profile_background_image_url\"': '\"http://abs.twimg.com/images/themes/theme1/bg.png\"', '\"profile_background_image_url_https\"': '\"https://abs.twimg.com/images/themes/theme1/bg.png\"', '\"profile_background_tile\"': 'false', '\"profile_image_url\"': '\"http://pbs.twimg.com/profile_images/1011247337241497600/HzYCHfRy_normal.jpg\"', '\"profile_image_url_https\"': '\"https://pbs.twimg.com/profile_images/1011247337241497600/HzYCHfRy_normal.jpg\"', '\"profile_banner_url\"': '\"https://pbs.twimg.com/profile_banners/31444922/1550622731\"', '\"profile_link_color\"': '\"FF3300\"', '\"profile_sidebar_border_color\"': '\"FFFFFF\"', '\"profile_sidebar_fill_color\"': '\"C2DEE9\"', '\"profile_text_color\"': '\"242525\"', '\"profile_use_background_image\"': 'true', '\"has_extended_profile\"': 'false', '\"default_profile\"': 'false', '\"default_profile_image\"': 'false', '\"following\"': 'false', '\"follow_request_sent\"': 'false', '\"notifications\"': 'false', '\"translator_type\"': '\"regular\"'}\n"
     ]
    }
   ],
   "source": [
    "#get dominos account information\n",
    "\n",
    "domino_id=31444922\n",
    "user_information = api.get_user(user_id=domino_id)\n",
    "\n",
    "#print(user_information._json)\n",
    "content = user_information._json\n",
    "\n",
    "domino_accountinfo = dict()\n",
    "\n",
    "for x,y in content.items():\n",
    "    #print(json.dumps(x),json.dumps(y))\n",
    "    domino_accountinfo[json.dumps(x)] = json.dumps(y)\n",
    "\n",
    "print(domino_accountinfo)"
   ]
  },
  {
   "cell_type": "code",
   "execution_count": 4,
   "metadata": {},
   "outputs": [
    {
     "name": "stdout",
     "output_type": "stream",
     "text": [
      "{'\"id\"': '11018442', '\"id_str\"': '\"11018442\"', '\"name\"': '\"Pizza Hut\"', '\"screen_name\"': '\"pizzahut\"', '\"location\"': '\"United States\"', '\"profile_location\"': 'null', '\"description\"': '\"Proud Sponsor of the NFL and NCAA\\\\u00ae.\"', '\"url\"': 'null', '\"entities\"': '{\"description\": {\"urls\": []}}', '\"protected\"': 'false', '\"followers_count\"': '1625823', '\"friends_count\"': '88300', '\"listed_count\"': '5124', '\"created_at\"': '\"Mon Dec 10 14:03:21 +0000 2007\"', '\"favourites_count\"': '19407', '\"utc_offset\"': 'null', '\"time_zone\"': 'null', '\"geo_enabled\"': 'true', '\"verified\"': 'true', '\"statuses_count\"': '442833', '\"lang\"': 'null', '\"status\"': '{\"created_at\": \"Mon Mar 02 22:58:05 +0000 2020\", \"id\": 1234613978166202369, \"id_str\": \"1234613978166202369\", \"text\": \"@ChrissyRie Thanks for bringing this to our attention. Mind sending us a DM with more information? https://t.co/PQtSXiQxeo\", \"truncated\": false, \"entities\": {\"hashtags\": [], \"symbols\": [], \"user_mentions\": [{\"screen_name\": \"ChrissyRie\", \"name\": \"Christina Marie\\\\ud83c\\\\udf3b\", \"id\": 373581552, \"id_str\": \"373581552\", \"indices\": [0, 11]}], \"urls\": [{\"url\": \"https://t.co/PQtSXiQxeo\", \"expanded_url\": \"https://twitter.com/messages/compose?recipient_id=11018442\", \"display_url\": \"twitter.com/messages/compo\\\\u2026\", \"indices\": [99, 122]}]}, \"source\": \"<a href=\\\\\"http://www.lithium.com\\\\\" rel=\\\\\"nofollow\\\\\">Lithium Tech</a>\", \"in_reply_to_status_id\": 1234612927761731585, \"in_reply_to_status_id_str\": \"1234612927761731585\", \"in_reply_to_user_id\": 373581552, \"in_reply_to_user_id_str\": \"373581552\", \"in_reply_to_screen_name\": \"ChrissyRie\", \"geo\": null, \"coordinates\": null, \"place\": null, \"contributors\": null, \"is_quote_status\": false, \"retweet_count\": 0, \"favorite_count\": 0, \"favorited\": false, \"retweeted\": false, \"possibly_sensitive\": false, \"lang\": \"en\"}', '\"contributors_enabled\"': 'false', '\"is_translator\"': 'false', '\"is_translation_enabled\"': 'false', '\"profile_background_color\"': '\"000000\"', '\"profile_background_image_url\"': '\"http://abs.twimg.com/images/themes/theme14/bg.gif\"', '\"profile_background_image_url_https\"': '\"https://abs.twimg.com/images/themes/theme14/bg.gif\"', '\"profile_background_tile\"': 'false', '\"profile_image_url\"': '\"http://pbs.twimg.com/profile_images/1143186014476914688/BIAXunyJ_normal.jpg\"', '\"profile_image_url_https\"': '\"https://pbs.twimg.com/profile_images/1143186014476914688/BIAXunyJ_normal.jpg\"', '\"profile_banner_url\"': '\"https://pbs.twimg.com/profile_banners/11018442/1575308021\"', '\"profile_link_color\"': '\"000000\"', '\"profile_sidebar_border_color\"': '\"FFFFFF\"', '\"profile_sidebar_fill_color\"': '\"EFEFEF\"', '\"profile_text_color\"': '\"333333\"', '\"profile_use_background_image\"': 'false', '\"has_extended_profile\"': 'false', '\"default_profile\"': 'false', '\"default_profile_image\"': 'false', '\"following\"': 'false', '\"follow_request_sent\"': 'false', '\"notifications\"': 'false', '\"translator_type\"': '\"regular\"'}\n"
     ]
    }
   ],
   "source": [
    "#get pizzahut account information\n",
    "\n",
    "\n",
    "user_information = api.get_user(screen_name='pizzahut')\n",
    "\n",
    "#print(user_information._json)\n",
    "content = user_information._json\n",
    "\n",
    "pizza_accountinfo = dict()\n",
    "\n",
    "for x,y in content.items():\n",
    "    pizza_accountinfo[json.dumps(x)] = json.dumps(y)\n",
    "    #print(json.dumps(x),json.dumps(y))\n",
    "    \n",
    "print(pizza_accountinfo)"
   ]
  },
  {
   "cell_type": "code",
   "execution_count": null,
   "metadata": {},
   "outputs": [],
   "source": []
  }
 ],
 "metadata": {
  "kernelspec": {
   "display_name": "Python 3",
   "language": "python",
   "name": "python3"
  },
  "language_info": {
   "codemirror_mode": {
    "name": "ipython",
    "version": 3
   },
   "file_extension": ".py",
   "mimetype": "text/x-python",
   "name": "python",
   "nbconvert_exporter": "python",
   "pygments_lexer": "ipython3",
   "version": "3.7.3"
  }
 },
 "nbformat": 4,
 "nbformat_minor": 2
}
